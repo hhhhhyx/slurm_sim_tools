{
 "cells": [
  {
   "cell_type": "code",
   "execution_count": 2,
   "metadata": {},
   "outputs": [
    {
     "data": {
      "text/plain": [
       "'59, 58, 99, 126, 79, 89, 146, 105, 114, 68'"
      ]
     },
     "execution_count": 2,
     "metadata": {},
     "output_type": "execute_result"
    }
   ],
   "source": [
    "# generate random start time for small\n",
    "import numpy as np\n",
    "np.random.seed(seed=20211214)\n",
    "start_times = np.random.randint(low=30, high=150, size=10)\n",
    "start_times\n",
    "#start_times.sort()\n",
    "\", \".join([str(v) for v in start_times])"
   ]
  },
  {
   "cell_type": "code",
   "execution_count": 13,
   "metadata": {
    "pycharm": {
     "name": "#%%"
    }
   },
   "outputs": [
    {
     "name": "stdout",
     "output_type": "stream",
     "text": [
      "mv small_dtstart_58_1 dtstart_58_1\n",
      "mv small_dtstart_58_2 dtstart_58_2\n",
      "mv small_dtstart_59_1 dtstart_59_1\n",
      "mv small_dtstart_59_2 dtstart_59_2\n",
      "mv small_dtstart_68_1 dtstart_68_1\n",
      "mv small_dtstart_68_2 dtstart_68_2\n",
      "mv small_dtstart_79_1 dtstart_79_1\n",
      "mv small_dtstart_79_2 dtstart_79_2\n",
      "mv small_dtstart_89_1 dtstart_89_1\n",
      "mv small_dtstart_89_2 dtstart_89_2\n",
      "mv small_dtstart_99_1 dtstart_99_1\n",
      "mv small_dtstart_99_2 dtstart_99_2\n",
      "mv small_dtstart_105_1 dtstart_105_1\n",
      "mv small_dtstart_105_2 dtstart_105_2\n",
      "mv small_dtstart_114_1 dtstart_114_1\n",
      "mv small_dtstart_114_2 dtstart_114_2\n",
      "mv small_dtstart_126_1 dtstart_126_1\n",
      "mv small_dtstart_126_2 dtstart_126_2\n",
      "mv small_dtstart_146_1 dtstart_146_1\n",
      "mv small_dtstart_146_2 dtstart_146_2\n"
     ]
    }
   ],
   "source": [
    "for dstart in start_times:\n",
    "    for run_id in (1,2):\n",
    "        print(f\"mv small_dtstart_{dstart}_{run_id} dtstart_{dstart}_{run_id}\")"
   ]
  },
  {
   "cell_type": "code",
   "execution_count": null,
   "metadata": {},
   "outputs": [],
   "source": []
  }
 ],
 "metadata": {
  "kernelspec": {
   "display_name": "Python 3 (ipykernel)",
   "language": "python",
   "name": "python3"
  },
  "language_info": {
   "codemirror_mode": {
    "name": "ipython",
    "version": 3
   },
   "file_extension": ".py",
   "mimetype": "text/x-python",
   "name": "python",
   "nbconvert_exporter": "python",
   "pygments_lexer": "ipython3",
   "version": "3.11.6"
  }
 },
 "nbformat": 4,
 "nbformat_minor": 4
}
